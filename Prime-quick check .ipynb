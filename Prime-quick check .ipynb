{
 "cells": [
  {
   "cell_type": "code",
   "execution_count": 1,
   "id": "7dd40b6f",
   "metadata": {},
   "outputs": [
    {
     "name": "stdout",
     "output_type": "stream",
     "text": [
      "Prime\n",
      "Not prime\n",
      "Prime\n",
      "Not prime\n"
     ]
    }
   ],
   "source": [
    "#Writ a function for finding prime or not prime but sufficiant way\n",
    "from unicodedata import is_normalized\n",
    "\n",
    "\n",
    "def is_prime(n) -> int :\n",
    "    #Number 1 and 2 is not prime\n",
    "    if n < 2:\n",
    "        \"Not prime\" \n",
    "        #We can divide a number up to the square root of number\n",
    "    for i in range(2, int(n ** 0.5) + 1):\n",
    "        if n % i == 0:\n",
    "            #If mod is equal 0 this means number is not prime\n",
    "            return \"Not prime\" \n",
    "    return \"Prime\" \n",
    "\n",
    "\n",
    "print(is_prime(8485859887) )\n",
    "print(is_prime(74756865906032413117787))\n",
    "print(is_prime(67389173317))\n",
    "print(is_prime(94876989066317))"
   ]
  }
 ],
 "metadata": {
  "kernelspec": {
   "display_name": "Python 3 (ipykernel)",
   "language": "python",
   "name": "python3"
  },
  "language_info": {
   "codemirror_mode": {
    "name": "ipython",
    "version": 3
   },
   "file_extension": ".py",
   "mimetype": "text/x-python",
   "name": "python",
   "nbconvert_exporter": "python",
   "pygments_lexer": "ipython3",
   "version": "3.10.0"
  }
 },
 "nbformat": 4,
 "nbformat_minor": 5
}
