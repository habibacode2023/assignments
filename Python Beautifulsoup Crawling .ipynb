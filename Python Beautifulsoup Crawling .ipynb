{
 "cells": [
  {
   "cell_type": "markdown",
   "id": "fb8c185c",
   "metadata": {},
   "source": [
    "# Scraping News Websites"
   ]
  },
  {
   "cell_type": "code",
   "execution_count": 23,
   "id": "88923dd1",
   "metadata": {},
   "outputs": [
    {
     "name": "stdout",
     "output_type": "stream",
     "text": [
      "Headline : What we're covering here\n",
      "Headline : Dow falls over 170 points Thursday \n",
      "Headline : Fed's Bullard and Logan: Inflation isn't cooling fast enough\n",
      "Headline : Warren slams regulator who signed off on JPMorgan’s bid for First Republic\n",
      "Headline : Fed's Barr: \"I accept full responsibility\" for supervisory failures\n",
      "Headline : Economic barometer declines for 13th consecutive month\n",
      "Headline : Stocks turn higher on cheery earnings and debt ceiling resolution hopes\n",
      "Headline : Sen. Scott to banking regulators: \"You did not use the tools in the toolbox\"\n",
      "Headline : US home sales fell in April for the second month in a row\n",
      "Headline : Stocks mixed Thursday as investors worry about the debt ceiling and economic outlook\n"
     ]
    }
   ],
   "source": [
    "#Import requests and BeatifulSoup\n",
    "import requests\n",
    "from bs4 import BeautifulSoup as soup\n",
    "\n",
    "#Make a decision on which URL you want to crawl \n",
    "cnn_url=\"https://edition.cnn.com/business/live-news/markets-bank-hearings-housing/index.html\"\n",
    "html = requests.get(cnn_url)\n",
    "BeautifulSoup= soup(html.content,'lxml')\n",
    "\n",
    "#Find all Headlines with h2 in HTML\n",
    "for link in BeautifulSoup.findAll(\"h2\"):\n",
    "    print(\"Headline : {}\".format(link.text))"
   ]
  },
  {
   "cell_type": "code",
   "execution_count": 24,
   "id": "da788181",
   "metadata": {},
   "outputs": [
    {
     "name": "stdout",
     "output_type": "stream",
     "text": [
      "LiveMarkets latestLiveRussia's war in UkraineLive UpdatesMarkets latest: Housing data, jobless claims and banking regulators on the HillFrom CNN's Krystal Hur, Alicia Wallace, Elisabeth Buchwald, Allison Morrow and Anna BahneyUpdated 2:02 p.m. ET, May 18, 2023What we're covering hereMarkets remain optimistic that a debt default crisis can be averted, but time is running short to raise the borrowing limit ahead of June 1, the earliest date the Treasury Department says it could be unable to pay its bills.Traders are reviewing several key economic indicators on Thursday, including the latest jobless claims and existing home sales plus a Senate Banking Committee hearing where federal regulators were grilled over apparent lapses that led to the collapse of three regional banks under their watch.US stocks were up and down Thursday, matching sentiment about hopes of a debt ceiling deal.share with Facebookshare with Twittershare with emailshare link15 PostsSort byLatestOldestDropdown arrow18 min agoDow falls over 170 points Thursday The Dow fell about 172 points, or 0.5%, early Thursday afternoon.Procter & Gamble shares fell about 2% after Truist downgraded the stock, citing concerns that the defensive stock is unlikely to see much more upside.Shares of UnitedHealth Group, Chevron, Walgreens Boots Alliance and Goldman Sachs each slid over 1%, contributing to the blue-chip index's declines.The S&P 500 rose 0.2% and the Nasdaq Composite gained about 0.8%.share with Facebookshare with Twittershare with emailshare link1 min agoFed's Bullard and Logan: Inflation isn't cooling fast enoughFrom CNN's Bryan MenaShoppers look at items displayed at a grocery store in Washington, DC, on February 15.  (Stefani Reynolds/AFP/Getty Images)Two Federal Reserve officials expressed concerns on Thursday that inflation isn't cooling fast enough, throwing some cold water at the idea that the Fed could pause rate hikes in June.Federal Reserve Bank of Dallas President Lorie Logan said at a banking conference in Texas that she hasn't seen enough evidence that inflation is on track to fall to the central bank's 2% target.“I’m keeping an open mind and a close watch on economic developments as we head toward the next meeting in mid-June. As of today, though, I remain concerned about whether inflation is falling fast enough,” she said.The Consumer Price Index rose 4.9% in April from a year earlier, just slightly down from the 5% rise in March. Officials have expressed worries that core inflation, which strips out volatile food and energy prices, is not falling fast enough. That measure also declined slightly in April.Logan is a voting member of the Fed committee that decides interest rates and has staked out a centrist stance — in between hawkish and dovish.Federal Reserve Bank of St. Louis President James Bullard also expressed a similar sentiment on Thursday in an interview with the Financial Times.“I do expect disinflation, but it’s been slower than I would have liked, and it may warrant taking out some insurance by raising rates somewhat more to make sure that we really do get inflation under control,” said Bullard, who isn't voting member.The Fed raised interest rates by a quarter point earlier this month to move up its benchmark lending rate range to 5-5.25% and signaled a pause in future meetings. Fed officials meet again in mid June after the release of fresh labor market data earlier that month and the latest CPI inflation report just one day prior to their decision announcement.share with Facebookshare with Twittershare with emailshare link1 hr 54 min agoWarren slams regulator who signed off on JPMorgan’s bid for First RepublicActing Comptroller of the Currency, Michael Hsu, testified before a Senate Banking, Housing, and Urban Affairs Committee hearing in the wake of recent bank failures, on Capitol Hill in Washington today. (Evelyn Hockstein/Reuters)Democratic Sen. Elizabeth Warren pressed Michael Hsu, Acting Comptroller, Office of the Comptroller of the Currency, for answers on why he allowed the nation’s largest bank, JPMorgan Chase, to take over collapsed First Republic Bank.As Warren pointed out, when a bank fails, the government is obligated to find the least costly resolution. This solution must minimize the funds depleted from the Federal Deposit Insurance Corporation’s Deposit Insurance Fund and quickly restore confidence in the banking system.But the OCC, which in addition to the FDIC has to approve failed bank acquisitions, is required to evaluate whether it “would result in a material increase in risks to financial system stability due to an increase in size of the combining institutions.”Banks are assigned a score that encapsulates how large they are and therefore the risk they pose to the overall financial system if they collapse. The score helps determine which banks are too big to fail and would require costly bailouts in that event.Several banks that made bids for First Republic had significantly lower scores than JPMorgan yet they weren’t selected, Warren said.Hsu defended the decision, saying: “I fear that there would have been greater financial instability that weekend” if the agency had followed a strict banking score methodology. share with Facebookshare with Twittershare with emailshare link2 hr 53 min agoFed's Barr: \"I accept full responsibility\" for supervisory failuresMichael Barr, Vice Chair for Supervision at the Federal Reserve, testifies about recent bank failures during a US Senate Committee on Banking, House and Urban Affairs hearing on Capitol Hill in Washington, DC, on May 18. (Saul Loeb/AFP/Getty Images)After Republican Sen. Tim Scott accused banking regulators of shifting the blame to their predecessors, Michael Barr, the Fed’s vice chair for supervision, said “I accept full responsibility\" for supervisory failures.“The buck stops here,” Barr said. But he admitted that no one at the Fed had been fired after a review he led found banking supervision fell short of what was needed to protect a bank run.share with Facebookshare with Twittershare with emailshare link3 hr 29 min agoEconomic barometer declines for 13th consecutive monthThe Conference Board's Leading Economic Index, a comprehensive gauge of the US economy's health, dropped for the 13th straight month in April, according to data released Thursday.The index fell 0.6% last month to 107.5, continuing its yearlong stretch of declines. The LEI is down 4.4% in the six months between October 2022 and April 2023, representing a sharper rate of decline than the 3.8% drop from the prior six-month period, according to the Conference Board. The decline was in line with economists' expectations, according to consensus estimates on Refinitiv.The index continues to warn of worse economic times ahead and a downturn to occur in the coming months, noted Justyna Zabinska-La Monica, the Conference Board's senior manager of business cycle indicators. The Conference Board forecasts that economic activity will contract this quarter and lead to a mild recession by the middle of the year.“Weaknesses among underlying components were widespread — but less so than in March’s reading, which resulted in a smaller decline,\" Zabinska-La Monica wrote in a statement. \"Only stock prices and manufacturers’ new orders for both capital and consumer goods improved in April.\"share with Facebookshare with Twittershare with emailshare link2 hr 55 min agoStocks turn higher on cheery earnings and debt ceiling resolution hopesThe New York Stock Exchange on Wall Street in New York City on May 12.  (Angela Weiss/AFP/Getty Images)Stocks rose by mid-morning on Thursday, reversing earlier losses as cheery corporate earnings reports and optimism about the debt ceiling crisis helped lift the market.The S&P 500 rose 0.5%, the Dow rose 0.07% and the Nasdaq Composite gained 0.9%.Take-Two Interactive Software shares gained 11.6% after the video game firm on Wednesday reported better-than-expected revenue for its latest quarter and hinted at the timeline for several video games releases.Bath & Body Works shares rose about 9% after the company beat top- and bottom- line expectations and raised its earnings forecast for the year.Shares of Walmart rose 1.9% after the retail bellwether reported strong sales for its latest quarter and raised its full-year outlook.share with Facebookshare with Twittershare with emailshare link3 hr 35 min agoSen. Scott to banking regulators: \"You did not use the tools in the toolbox\"Senator Tim Scott during today’s Senate Banking, Housing, and Urban Affairs Committee on Capitol Hill set to examine financial regulators in the wake of recent bank failures.. (From U.S. Senate Committee on Banking, Housing and Urban Affairs)The blame game continues on Capitol Hill Thursday morning, as the Senate Banking Committee kicks off its hearing with banking regulators.Democrats are poised to renew calls for putting in place tougher capital and liquidity requirements on banks.Republican Sen. Tim Scott disputed arguments that regulation wasn’t sufficient for the failed banks, telling regulators: “You did not use the tools in the toolbox to do the job that was necessary.\" Instead, he said, supervisors ignored clear warning signs from banks and should be held accountable.Americans who distrusted banks before the crisis are likely to suffer even more from it, he added.share with Facebookshare with Twittershare with emailshare link1 hr 50 min agoUS home sales fell in April for the second month in a rowUS home sales fell in April for the second month in a row, according to a National Association of Realtors report released Thursday. Sales had shown some life, rising in February after a full year of declines due to surging mortgage rates, but that momentum has since cooled.In April, sales of existing homes — which include single-family homes, townhomes, condominiums and co-ops — dropped 3.4% from March. Annually, sales were down 23% from a year ago and the seasonally adjusted annualized sales pace dropped from 5.57 million units a year ago to 4.28 million in April.April's falling sales showed that February's reversal — which ended the longest streak of month-to-month declining home sales on record, going back to 1999 for all homes — did not take off.\"Home sales are bouncing back and forth but remain above recent cyclical lows,\" said Lawrence Yun, NAR's chief economist. \"The combination of job gains, limited inventory and fluctuating mortgage rates over the last several months have created an environment of push-pull housing demand.\"Read more here.share with Facebookshare with Twittershare with emailshare link4 hr 30 min agoStocks mixed Thursday as investors worry about the debt ceiling and economic outlookStocks were mixed Thursday as investors continued to hope for a resolution on the debt ceiling crisis and digested hawkish Federal Reserve commentary.Wall Street was hopeful that President Joe Biden and GOP lawmakers would reach a deal to raise the debt ceiling after both parties said Wednesday that a default is unlikely to happen. But worries are mounting as the US draws closer to its early June X-date, which is when the government is expected to run out of cash.Meanwhile, Dallas Fed President Lorie Logan said Thursday that while upcoming data could indicate to the central bank that a rate pause is warranted in June, there hasn't yet been a significant enough slowdown in inflation.Futures traders see a roughly 36% chance that the Fed raises interest rates at its next meeting in June, according to the CME FedWatch Tool.Crude oil prices edged lower on worries about the economic outlook. West Texas Intermediate, the US benchmark, fell to roughly $72 a barrel.Jobless claims fell more than expected for the week ended May 13, remaining below historical averages.Meanwhile, Treasury Secretary Janet Yellen is set to meet with a group of bank chief executives this afternoon, including JPMorgan Chase's Jamie Dimon, Citigroup's Jane Fraser and Bank of America's Brian Moynihan.Federal regulators are also set to testify before the Senate Banking Committee on Thursday morning about the state of financial stability and supervision following the collapses of three regional banks.Walmart shares rose 2.1% after the company reported strong sales for its latest quarter and raised its outlook for the year, briefly cheering investors looking for signs of a strong consumer from the retail bellwether.The Dow fell 85 points, or 0.3%.The S&P 500 slid 0.9%.The Nasdaq Composite rose 0.1%.share with Facebookshare with Twittershare with emailshare link\n"
     ]
    }
   ],
   "source": [
    "#From these Headlines show articles\n",
    "for news in BeautifulSoup.findAll('article',{'class':'ls-template'}):\n",
    "    print(news.text.strip())  "
   ]
  }
 ],
 "metadata": {
  "kernelspec": {
   "display_name": "Python 3 (ipykernel)",
   "language": "python",
   "name": "python3"
  },
  "language_info": {
   "codemirror_mode": {
    "name": "ipython",
    "version": 3
   },
   "file_extension": ".py",
   "mimetype": "text/x-python",
   "name": "python",
   "nbconvert_exporter": "python",
   "pygments_lexer": "ipython3",
   "version": "3.10.0"
  }
 },
 "nbformat": 4,
 "nbformat_minor": 5
}
