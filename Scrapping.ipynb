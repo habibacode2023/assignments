{
 "cells": [
  {
   "cell_type": "code",
   "execution_count": 14,
   "id": "f181a643",
   "metadata": {},
   "outputs": [
    {
     "name": "stdout",
     "output_type": "stream",
     "text": [
      "{'Noutbuk Apple MacBook Pro 16 MK183RU/A Space Gray 0M 0% 12ay': '4339.99 ', 'Notbuk Asus Vivobook 15 X1502ZA-BQ999 90NB0VX1-M01FE0 ': '285.2', 'Notbuk Lenovo IdeaPad 3 15IAU7 (82RK00MCRK) ': '1829.99 ', 'Notbuk Lenovo IdeaPad Gaming 3 15IAH7 (82S9013BRK) ': '94.6', 'Notbuk Lenovo IdeaPad 3 15IAU7 (82RK00MGRK) ': '979.99 ', 'Notbuk HP 15-DW1110UR 2N0K4EA ': '50.6', 'Notbuk HP 15-DW1044UR 22P83EA ': '2129.99 ', 'Notbuk HP 15-DW1058U 22N57EA ': '109.4', 'Notbuk HP 250G8 2X7T8EA ': '1439.99 ', 'Notbuk HP 250G8 34N25ES ': '74.2', 'Notbuk HP Envy x360 15-EW0018CI (7N7N3EA) ': '969.99 ', 'Notbuk Acer Swift 3 SF314-59-75QC (NX.A5UAA.006) ': '49.6', 'Notbuk Acer Swift 3 SF314-43-R2YY (NX.AB1AA.005) ': '839.99 ', 'Notbuk MSI Crosshair A11UCK-264US (9S7-158254-264) ': '43.2', 'Notbuk Asus ROG Zephyrus Duo 16 GX650RX-LO206W (90NR0921-M00EL0) ': '829.99 ', 'Notbuk MSI Pulse GL76 12UGSZOK-684XAZ (9S7-17L375-684) ': '42.7', 'Notbuk MSI Katana GF66 12UGSZOK-1098XAZ (9S7-1583B4-1098) ': '789.99 ', 'Notbuk Asus ROG Zephyrus M16 GU603ZM-K8057 (90NR0911-M004D0) ': '40.4', 'Notbuk Asus ROG Flow Z13 GZ301ZE-LD225X (90NR07X1-M00JV0) ': '719.99 ', 'Notbuk HP ENVY X360 15-EW0023DX (695B0UA) ': '37.1', 'Notbuk Asus VivoBook Pro M6400RC M6400RC-KM010W 90NB0YE2-M00180 ': '2519.99 ', 'Notbuk Asus VivoBook Pro 14 K6400ZC-KM027W 90NB0XT3-M001L0 ': '129.8', 'Notbuk Asus VivoBook K6500Z 90NB0XK1-M00JT0 ': '1349.99 ', 'Notbuk Asus VivoBook S 14 M3402RA-KM081 90NB0WH1-M00370 ': '69.6', 'Notbuk Asus TUF FA507XV-HQ022W 90NR0DY5-M00270 ': '1349.99 ', 'Notbuk Asus ROG Strix G713PU-LL043 90NR0C54-M00350 ': '69.6', 'Notbuk Asus TUF Gaming A17 FA707RM-HX031 90NR0972-M001N0 ': '2599.99 ', ' Notbuk Asus ROG Strix G17 G713RC-HX048 90NR08F4-M00270 ': '133.5', 'Notbuk Asus ROG Flow X16 GV601RW-M6064W (90NR0AN1-M00340) ': '8369.99 ', 'Notbuk Asus TUF Gaming FA707RE-HX040W 90NR08X1-M00290 ': '431.1', 'Notbuk Asus TUF Dash F15 FX517ZE-HN131 90NR0951-M00820 ': '4899.99 ', 'Notbuk Asus TUF FX506HC-HN006 90NR0723-M00950 ': '252.2', 'Notbuk Asus VivoBook X1504ZA-BQ086 (90NB1021-M003K0) ': '4089.99 ', 'Notbuk Asus ROG Strix G15 G513RW-HQ198 (90NR0895-M00AA0) ': '210.5', 'Notbuk HP 15-DW1107UR 31N80EA ': '4089.99 ', 'Notbuk HP Pavilion 14-DV2011CI (6G7X6EA) ': '210.5', 'Notbuk HP Pavilion X360 14-EK0017CI (6G829EA) ': '4289.99 ', 'Notbuk HP Pavilion 15-EG2012CI (6G7Z7EA) ': '220.7', 'Notbuk HP ENVY X360 13-BF0002CI (6J7X2EA) ': '2249.99 ', 'Notbuk HP Pavilion X360 14-EK0018CI (6G7U2EA) ': '115.9', 'Notbuk HP Pavilion 15-EG2016CI (6G801EA) ': '3139.99 ', 'Notbuk HP Pavilion Aero 13-BE1005CI (67M66EA) ': '161.8', 'Notbuk HP Omen 17-CK1019CI (6D7K5EA) 0M 0% 15ay': '2899.99 ', 'Noutbuk HP Spectre X360 14-EF0003CI (6G6M7EA) ': '149.8', 'Noutbuk HP Envy X360 15-EW0001CI (6G6M8EA) ': '2519.99 ', 'Noutbuk HP Envy X360 13-BF0000CI (6J7W1EA) ': '129.8', 'Noutbuk HP Spectre X360 14-EF0000CI (6G6M4EA) ': '2519.99 ', 'Noutbuk HP Pavilion Plus 14-EH0001CI (6J2X5EA) ': '129.8', 'Noutbuk HP Victus 16-D1074CI (6X7Q8EA) ': '3849.99 ', 'Notbuk HP 15-DW4004CI (6L9W9EA) ': '198', 'Notbuk HP Pavelion Aero 13-BE1010CI (6D7P0EA) ': '3799.99 ', 'Notbuk HP Pavilion Aero 13-BE1006CI (67M69EA) ': '196.1', 'Notbuk HP Pavilion X360 14-EK0015CI (6G7U0EA) ': '3289.99 ', 'Notbuk HP 15-DW4003CI (6M038EA) ': '169.3', 'Notbuk HP Pavilion Aero 13-BE1008CI (6D7N7EA) ': '3239.99 ', 'Notbuk Huawei MateBook D 14 Silver (53013QDV) 0M 0% 15ay': '166.9', 'Notbuk Huawei MateBook D 14 Silver (53013NYY) 0M 0% 15ay': '5939.99 ', 'Notbuk Huawei MateBook D 15 Gray (53013PEX) 0M 0% 15ay': '306', 'Notbuk Lenovo ThinkPad T14S Gen 3 21BR00DWRT 0M 0% 15ay': '2789.99 ', 'Notbuk Asus VivoBook S15 Oled K3502ZA-MA174 (90NB0WK2-M007L0) ': '143.8', 'Apple MacBook Pro 14 MPHK3RU/A Silver ': '2569.99 ', 'Notbuk Acer SFX14-51G (NX.K0AER.004) 0M 0% 15ay': '132.2', 'Notbuk Acer SFX14-51G (NX.K0AER.003) 0M 0% 15ay': '2329.99 ', 'Notbuk Asus VivoBook X1503ZA-L1274 (90NB0WY1-M00AW0) 0M 0% 15ay': '119.6', 'Notbuk Asus E410MA-212.BK128-11 (90NB0Q15-M40320) ': '1799.99 ', 'Notbuk Asus Vivobook 15x Oled M1503QA-ES52 (90NB0Y91-M00220) ': '92.8', 'Notbuk HP EliteBook 850 G8 (401F0EA) 0M 0% 15ay': '4289.99 ', 'Notbuk Lenovo ThinkPad E14 Gen 3 (20Y70039US) 0M 0% 15ay': '220.7', 'Notbuk Apple MacBook Pro 16 MNWC3RU/A Silver ': '979.99 ', 'Noutbuk HUAWEI Matebook D 14 Space Gray (53013PLU) 0M 0% 15ay': '50.1', 'Notbuk Asus Vivobook S14X S5402ZA (90NB0X31-M003Y0) ': '2289.99 ', 'Notbuk MSI Sword 15 A12UE-605US (9S7-158333-605) 0M 0% 15ay': '119.6', 'Notbuk Dell Lattitude 3410 (BDKC563) 0M 0% 15ay': '2229.99 ', 'Notbuk Acer Aspire A315-59G-7763 (NX.K6WER.009) 0M 0% 15ay': '115.9', 'Notbuk Acer Aspire A315-59G-5283 (NX.K6WER.008) 0M 0% 15ay': '2199.99 ', 'Notbuk Acer Nitro 5 AN515 (NH.QFMER.00G) 0M 0% 15ay': '115.9', 'Notbuk Lenovo ThinkBook 15 G4 IAP (21DJ00KURU) 0M 0% 15ay': '2639.99 ', 'Notbuk Lenovo ThinkBook 15 G4 IAP (21DJ00KJRU) 0M 0% 15ay': '136.8', 'Notbuk Lenovo ThinkBook 15 G4 IAP (21DJ00KSRU) 0M 0% 15ay': '1899.99 ', 'Notbuk Acer Predator HELIOS 300 PH315 (NH.QGMER.006) 0M 0% 15ay': '98.8', 'Notbuk Acer Predator Helios 300 PH315 (NH.QGNER.007) 0M 0% 15ay': '1849.99 ', 'Notbuk HP ProBook 440 G8 (32M72EA) 0M 0% 15ay': '98.8', 'Notbuk Apple MacBook Pro 16\" MNW93RU/A Space Gray 0M 0% 12ay': '1849.99 ', 'Notbuk Apple MacBook Pro 16\" MNW83RU/A Space Gray 0M 0% 12ay': '97.4', 'Notbuk Apple MacBook Pro 14 MPHJ3RU/A Silver 0M 0% 12ay': '3989.99 ', 'Notbuk Apple MacBook Pro 16 MNWD3RU/A Silver 0M 0% 12ay': '208.6', 'Notbuk Apple Macbook Pro 14 MPHF3RU/A Space Gray 0M 0% 12ay': '3649.99 ', 'Notbuk Apple MacBook Pro 16 MNWA3RU/A Space Gray 0M 0% 12ay': '190.1', 'Notbuk Acer Swift 3 SF314-512 (NX.K7MER.008) 0M 0% 15ay': '3619.99 ', 'Notbuk Acer Swift 3 SF314-512 (NX.K7MER.00A) 0M 0% 15ay': '185.5', 'Notbuk Lenovo Yoga 7 (82QG0001US) 0M 0% 15ay': '3289.99 ', 'Noutbuk Dell Vostro 3510 (210-AZZU) 0M 0% 15ay': '171.5', 'Notbuk HP ProBook 440 G8 (2X7U7EA) 0M 0% 15ay': '3179.99 ', 'Notbuk Acer Predator Helios 300 (NH.QGPER.002) 0M 0% 15ay': '166.9', 'Notbuk Acer Nitro 5 AN515-58 (NH.QFMER.00D) 0M 0% 15ay': '2989.99 ', 'Notbuk Acer Nitro 5 AN515-58 (NH.QFLER.006) 0M 0% 15ay': '156.7'}\n"
     ]
    }
   ],
   "source": [
    "import requests\n",
    "from bs4 import BeautifulSoup\n",
    "import re\n",
    "url = \"https://kontakt.az/komputerler/notebook/?cnt=96\"\n",
    "req = requests.get(url)\n",
    "soup = BeautifulSoup(req.text, \"lxml\")\n",
    "#Find prices for all models\n",
    "mydivs = soup.find_all(\"span\", {\"class\": \"nprice\"})\n",
    "\n",
    "names=soup.find_all(\"div\",{\"class\":\"name\"})\n",
    "prices=[]\n",
    "models=[]\n",
    "for mydiv in mydivs:\n",
    "        if mydiv.attrs['class'] == ['nprice']:\n",
    "            price=(mydiv.text.replace(\"M\",\"\"))\n",
    "        prices.append(price)\n",
    "for name in names:\n",
    "        if name.attrs['class']==[\"name\"]:\n",
    "            model=(name.text.replace(\"'\",\"\").replace(\"\\n\",\"\"))\n",
    "            models.append(model)\n",
    "Data = {}\n",
    "\n",
    "for i in range(96):\n",
    "    Data[models[i]] = prices[i]\n",
    "\n",
    "print(Data)"
   ]
  },
  {
   "cell_type": "code",
   "execution_count": null,
   "id": "cc06aa9d",
   "metadata": {},
   "outputs": [],
   "source": []
  }
 ],
 "metadata": {
  "kernelspec": {
   "display_name": "Python 3 (ipykernel)",
   "language": "python",
   "name": "python3"
  },
  "language_info": {
   "codemirror_mode": {
    "name": "ipython",
    "version": 3
   },
   "file_extension": ".py",
   "mimetype": "text/x-python",
   "name": "python",
   "nbconvert_exporter": "python",
   "pygments_lexer": "ipython3",
   "version": "3.10.0"
  }
 },
 "nbformat": 4,
 "nbformat_minor": 5
}
